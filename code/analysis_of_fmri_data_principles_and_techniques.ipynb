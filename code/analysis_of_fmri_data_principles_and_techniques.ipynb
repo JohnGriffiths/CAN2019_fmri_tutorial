{
 "cells": [
  {
   "cell_type": "markdown",
   "metadata": {
    "slideshow": {
     "slide_type": "slide"
    }
   },
   "source": [
    "# Analysis of fMRI data: Principles and techniques"
   ]
  },
  {
   "cell_type": "markdown",
   "metadata": {
    "slideshow": {
     "slide_type": "slide"
    }
   },
   "source": [
    "***Dr. John D. Griffiths***\n",
    "\n",
    "Group Lead in Whole Brain Modelling  \n",
    "Krembil Centre for Neuroinformatics, CAMH  \n",
    "\n",
    "Assistant Professor, University of Toronto"
   ]
  },
  {
   "cell_type": "markdown",
   "metadata": {
    "slideshow": {
     "slide_type": "slide"
    }
   },
   "source": [
    "## Code and (some) data"
   ]
  },
  {
   "cell_type": "markdown",
   "metadata": {
    "slideshow": {
     "slide_type": "slide"
    }
   },
   "source": [
    "<div align=\"center\"> https://github.com/JohnGriffiths/CAN2019_fmri_tutorial </div>\n",
    "\n",
    "<div align=\"center\"> <img src=\"figs/img01.png\" alt=\"Girl in a jacket\" width=\"700\" > </div>"
   ]
  },
  {
   "cell_type": "markdown",
   "metadata": {
    "slideshow": {
     "slide_type": "slide"
    }
   },
   "source": [
    "## Tools of the trade\n",
    "\n",
    "<div align=\"center\"> <img src=\"figs/img02.png\" alt=\"Girl in a jacket\" width=\"1000\" height=\"1200\"> </div>"
   ]
  },
  {
   "cell_type": "markdown",
   "metadata": {
    "slideshow": {
     "slide_type": "slide"
    }
   },
   "source": [
    "## MR Physics Primer\n",
    "\n",
    "<div align=\"center\"> <img src=\"img3.png\" alt=\"Girl in a jacket\" width=\"500\"> </div>"
   ]
  },
  {
   "cell_type": "markdown",
   "metadata": {
    "slideshow": {
     "slide_type": "slide"
    }
   },
   "source": [
    "## Imaging Brain Structure\n",
    "\n",
    "<div align=\"center\" > <img src=\"figs/img04.png\" alt=\"Girl in a jacket\" width=\"600\"> </div>"
   ]
  },
  {
   "cell_type": "markdown",
   "metadata": {
    "slideshow": {
     "slide_type": "slide"
    }
   },
   "source": [
    "## Macroscopic Cortical Anatomy"
   ]
  },
  {
   "cell_type": "markdown",
   "metadata": {},
   "source": [
    "<div align=\"center\" > <img src=\"figs/img05.png\" alt=\"Girl in a jacket\" width=\"700\"> </div>"
   ]
  },
  {
   "cell_type": "markdown",
   "metadata": {
    "slideshow": {
     "slide_type": "slide"
    }
   },
   "source": [
    "## Spherical topology of cerebral hemispheres"
   ]
  },
  {
   "cell_type": "markdown",
   "metadata": {
    "slideshow": {
     "slide_type": "slide"
    }
   },
   "source": [
    "<div align=\"center\" > <img src=\"figs/img06.png\" alt=\"Girl in a jacket\" width=\"900\"> </div>\n",
    "\n",
    "<div align=\"center\">(see also: http://gallantlab.org/brainviewer/sulcigyri/ )</div>"
   ]
  },
  {
   "cell_type": "markdown",
   "metadata": {
    "slideshow": {
     "slide_type": "slide"
    }
   },
   "source": [
    "## Parcellations"
   ]
  },
  {
   "cell_type": "markdown",
   "metadata": {
    "cell_style": "split"
   },
   "source": [
    "Can be thought of as neuroanatomically principled form of data downsampling\n",
    "\n",
    "Quite a few around…\n",
    "\n",
    "Bit of a wild west…\n",
    "\n",
    "Rapidly evolving field\n"
   ]
  },
  {
   "cell_type": "markdown",
   "metadata": {
    "cell_style": "split"
   },
   "source": [
    "<img src=\"figs/img07.png\" alt=\"Girl in a jacket\" width=\"300\">"
   ]
  },
  {
   "cell_type": "markdown",
   "metadata": {},
   "source": [
    "<div align=\"center\" > <img src=\"figs/img08.png\" alt=\"Girl in a jacket\" width=\"500\" height=\"400\"></div>"
   ]
  },
  {
   "cell_type": "markdown",
   "metadata": {
    "slideshow": {
     "slide_type": "slide"
    }
   },
   "source": [
    "## Origin of the BOLD signal"
   ]
  },
  {
   "cell_type": "markdown",
   "metadata": {},
   "source": [
    "\n",
    "\n",
    "Blood oxygenation-level-dependent (BOLD) signal:\n",
    "\n",
    "Neural activity -> increased oxygen consumption\n",
    "\t\t    -> increased blood flow\n",
    "  \t\t    -> change in magnetic susceptibility\n",
    "\n",
    "\n",
    "\n",
    "\n",
    "‘Balloon-Windksessel \n",
    "Model’:\n",
    "        "
   ]
  },
  {
   "cell_type": "markdown",
   "metadata": {},
   "source": [
    "<div align=\"center\" > <img src=\"figs/img09.png\" alt=\"Girl in a jacket\" width=\"800\"></div>"
   ]
  },
  {
   "cell_type": "markdown",
   "metadata": {
    "slideshow": {
     "slide_type": "slide"
    }
   },
   "source": [
    "## Experimental & Statistical Paradigms  \n",
    "***‘Classical’ mass-univariate analysis***"
   ]
  },
  {
   "cell_type": "markdown",
   "metadata": {
    "slideshow": {
     "slide_type": "slide"
    }
   },
   "source": [
    "HRF-convolved boxcar regressor\n",
    "-> beta -statistic images for each contrast\n",
    "\n",
    "first-level mass-univariate analysis\n",
    "-> t/F statistic images for each subject\n",
    "\n",
    "Enter into second-level (group) analysis\n",
    "-> ‘activation maps’"
   ]
  },
  {
   "cell_type": "markdown",
   "metadata": {
    "cell_style": "split"
   },
   "source": [
    "<div align=\"center\" >  <img src=\"figs/img10.png\" alt=\"Girl in a jacket\" width=\"500\" height=\"400\"></div>"
   ]
  },
  {
   "cell_type": "markdown",
   "metadata": {
    "slideshow": {
     "slide_type": "slide"
    }
   },
   "source": [
    "## Experimental & Statistical Paradigms  \n",
    "***Multi-voxel pattern analysis***"
   ]
  },
  {
   "cell_type": "markdown",
   "metadata": {},
   "source": [
    "\n",
    "HRF-convolved boxcar regressor\n",
    "-> beta + t/F -statistic images for each contrast, for each subject\n",
    "\n",
    "multivariate analysis on patches of voxels\n"
   ]
  },
  {
   "cell_type": "markdown",
   "metadata": {},
   "source": [
    "<div align=\"center\" >  <img src=\"figs/img11.png\" alt=\"Girl in a jacket\" width=\"500\" height=\"400\"></div>"
   ]
  },
  {
   "cell_type": "markdown",
   "metadata": {
    "slideshow": {
     "slide_type": "slide"
    }
   },
   "source": [
    "## Experimental & Statistical Paradigms  \n",
    "***Resting State***\n"
   ]
  },
  {
   "cell_type": "markdown",
   "metadata": {},
   "source": [
    "What?\n",
    "An experimental paradigm (barely) for measuring brain activity at rest\n",
    "What the brain is doing at rest\n",
    "Specific, canonical patterns of coherent low-frequency fluctuations. At rest. \n",
    "       -> ‘RSNs’\n",
    "Why?\n",
    "Flexible, easy, practical…etc..\n",
    "Links to neurocognitive structures\n"
   ]
  },
  {
   "cell_type": "markdown",
   "metadata": {},
   "source": [
    "<div align=\"center\" >  <img src=\"figs/img12.png\" alt=\"Girl in a jacket\" width=\"500\" height=\"400\"></div>"
   ]
  },
  {
   "cell_type": "markdown",
   "metadata": {
    "slideshow": {
     "slide_type": "slide"
    }
   },
   "source": [
    "## Connectivity & Networks\n"
   ]
  },
  {
   "cell_type": "markdown",
   "metadata": {
    "slideshow": {
     "slide_type": "slide"
    }
   },
   "source": [
    "## The three C’s\n"
   ]
  },
  {
   "cell_type": "markdown",
   "metadata": {},
   "source": [
    "<div align=\"center\" > <img src=\"figs/img13.png\" alt=\"Girl in a jacket\" width=\"700\"></div>"
   ]
  },
  {
   "cell_type": "markdown",
   "metadata": {
    "slideshow": {
     "slide_type": "slide"
    }
   },
   "source": [
    "## Functional/Effective Connectivity "
   ]
  },
  {
   "cell_type": "markdown",
   "metadata": {},
   "source": [
    "Metrics of choice"
   ]
  },
  {
   "cell_type": "markdown",
   "metadata": {
    "cell_style": "split"
   },
   "source": [
    "***fMRI***  \n",
    "Pearson Correlation  \n",
    "Partial Correlation  \n",
    "Wavelet coherence  \n",
    "ICA  "
   ]
  },
  {
   "cell_type": "markdown",
   "metadata": {
    "cell_style": "split"
   },
   "source": [
    "***M/EEG***   \n",
    "Imaginary Coherence  \n",
    "Phase synchrony  \n",
    "Bi/Multivariate Time/Freq   domain Granger Causality  \n",
    "Band-limited power correlations  "
   ]
  },
  {
   "cell_type": "markdown",
   "metadata": {
    "slideshow": {
     "slide_type": "slide"
    }
   },
   "source": [
    "## Connectomics"
   ]
  },
  {
   "cell_type": "markdown",
   "metadata": {},
   "source": [
    "<div align=\"center\" > <img src=\"figs/img14.png\" alt=\"Girl in a jacket\" width=\"600\"></div>"
   ]
  },
  {
   "cell_type": "markdown",
   "metadata": {
    "slideshow": {
     "slide_type": "slide"
    }
   },
   "source": [
    "## Connectomics"
   ]
  },
  {
   "cell_type": "markdown",
   "metadata": {},
   "source": [
    "<div align=\"center\" > <img src=\"figs/img15.png\" alt=\"Girl in a jacket\" width=\"700\"></div>"
   ]
  },
  {
   "cell_type": "markdown",
   "metadata": {
    "slideshow": {
     "slide_type": "slide"
    }
   },
   "source": [
    "## Modelling neuroimaging data with networks of neural masses"
   ]
  },
  {
   "cell_type": "markdown",
   "metadata": {},
   "source": [
    "<div align=\"center\" > <img src=\"figs/img16.png\" alt=\"Girl in a jacket\" width=\"900\"></div>"
   ]
  },
  {
   "cell_type": "markdown",
   "metadata": {
    "slideshow": {
     "slide_type": "slide"
    }
   },
   "source": [
    "## Conclusions"
   ]
  },
  {
   "cell_type": "markdown",
   "metadata": {},
   "source": [
    "High-resolution structural MRI data used for spatial alignment and identification of where to sample from (e.g. grey matter ribbon)\n",
    "\n",
    "fMRI: \t= good spatial, poor temporal resolution\n",
    "M/EEG\t= variable spatial; excellent temporal resolution\n",
    "\n",
    "In practice, generally, we/you are likely to be working with parcellation / ROI time series \n",
    "-> changes spatial resolution\n",
    "\n",
    "Macro-connectomics approach: construct whole-brain networks from:\n",
    "\ta) synchronization/correlation of ROI time series\t   \n",
    "\t\t-> ‘functional connectome’\n",
    "\tb) strength of anatomical connections\n",
    "         -> ‘structural connectome’\n",
    "\n",
    "\n"
   ]
  },
  {
   "cell_type": "markdown",
   "metadata": {
    "slideshow": {
     "slide_type": "slide"
    }
   },
   "source": [
    "## Qs?"
   ]
  },
  {
   "cell_type": "markdown",
   "metadata": {},
   "source": [
    "<div align=\"center\" > <img src=\"figs/img17.png\" alt=\"Girl in a jacket\" width=\"500\" height=\"400\"></div>"
   ]
  },
  {
   "cell_type": "markdown",
   "metadata": {
    "slideshow": {
     "slide_type": "slide"
    }
   },
   "source": [
    "## Open science in neuroimaging"
   ]
  },
  {
   "cell_type": "markdown",
   "metadata": {},
   "source": [
    "<div align=\"center\" > <img src=\"figs/img18.png\" alt=\"Girl in a jacket\" width=\"650\"></div>"
   ]
  },
  {
   "cell_type": "markdown",
   "metadata": {
    "slideshow": {
     "slide_type": "slide"
    }
   },
   "source": [
    "## Open data repositories"
   ]
  },
  {
   "cell_type": "markdown",
   "metadata": {},
   "source": [
    "<div align=\"center\" > <img src=\"figs/img19.png\" alt=\"Girl in a jacket\" width=\"650\"></div>"
   ]
  },
  {
   "cell_type": "markdown",
   "metadata": {
    "slideshow": {
     "slide_type": "slide"
    }
   },
   "source": [
    "## Analysis Software"
   ]
  },
  {
   "cell_type": "markdown",
   "metadata": {},
   "source": [
    "<div align=\"center\" > <img src=\"figs/img20.png\" alt=\"Girl in a jacket\" width=\"650\"></div>"
   ]
  },
  {
   "cell_type": "markdown",
   "metadata": {
    "slideshow": {
     "slide_type": "slide"
    }
   },
   "source": [
    "## File Formats"
   ]
  },
  {
   "cell_type": "markdown",
   "metadata": {},
   "source": [
    "\n",
    "Many, many, many, many formats…\n",
    "( nifti, gifti, cifti, dicom, mgh, mgz, fs surface, fs label, .fif, .elp, .bdf, … ) \n",
    "\n",
    "Most common + easiest: nifti volumes\n",
    "\n",
    "However most likely you will be working with ROI time series &/or connectivity matrices\n",
    "\n"
   ]
  },
  {
   "cell_type": "markdown",
   "metadata": {
    "slideshow": {
     "slide_type": "slide"
    }
   },
   "source": [
    "## Worked example: HCP"
   ]
  },
  {
   "cell_type": "markdown",
   "metadata": {},
   "source": [
    "<div align=\"center\" > <img src=\"img21.png\" alt=\"Girl in a jacket\" width=\"500\" height=\"400\"></div>"
   ]
  },
  {
   "cell_type": "markdown",
   "metadata": {
    "slideshow": {
     "slide_type": "slide"
    }
   },
   "source": [
    "## Practical Exercises"
   ]
  },
  {
   "cell_type": "markdown",
   "metadata": {
    "slideshow": {
     "slide_type": "slide"
    }
   },
   "source": [
    "## Exercise 1:\n",
    "    \n",
    "    "
   ]
  },
  {
   "cell_type": "markdown",
   "metadata": {},
   "source": [
    "Face processing GLM"
   ]
  },
  {
   "cell_type": "markdown",
   "metadata": {},
   "source": [
    "<div align=\"center\" > <img src=\"figs/img22.png\" alt=\"Girl in a jacket\" width=\"550\"></div>"
   ]
  },
  {
   "cell_type": "code",
   "execution_count": null,
   "metadata": {},
   "outputs": [],
   "source": []
  },
  {
   "cell_type": "code",
   "execution_count": null,
   "metadata": {},
   "outputs": [],
   "source": []
  },
  {
   "cell_type": "code",
   "execution_count": null,
   "metadata": {},
   "outputs": [],
   "source": []
  },
  {
   "cell_type": "markdown",
   "metadata": {
    "slideshow": {
     "slide_type": "slide"
    }
   },
   "source": [
    "## Exercise 2:    "
   ]
  },
  {
   "cell_type": "code",
   "execution_count": 4,
   "metadata": {},
   "outputs": [
    {
     "name": "stdout",
     "output_type": "stream",
     "text": [
      " ___  ____  __  __                                            \n",
      "/ __)(  _ \\(  \\/  )                                           \n",
      "\\__ \\ )___/ )    (   Statistical Parametric Mapping           \n",
      "(___/(__)  (_/\\/\\_)  SPM12 - https://www.fil.ion.ucl.ac.uk/spm/\n",
      "\n",
      "\n",
      "SPM12: v7487                                       00:24:24 - 20/05/2019\n",
      "========================================================================\n",
      "Initialising SPM                        :                   ........done\n",
      "\n",
      "SPM present working directory:\n",
      "\t/c/Ubuntu_WSL/Code/libraries_of_mine/github/CAN2019_fmri_tutorial/code\n"
     ]
    }
   ],
   "source": [
    "addpath('/c/Ubuntu_WSL/Code/libraries_of_others/github/spm12')\n",
    "\n",
    "spm fmri"
   ]
  },
  {
   "cell_type": "markdown",
   "metadata": {},
   "source": [
    "ROI Analysis & Functional Connectivity"
   ]
  },
  {
   "cell_type": "markdown",
   "metadata": {
    "slideshow": {
     "slide_type": "slide"
    }
   },
   "source": [
    "## That’s a wrap :)"
   ]
  },
  {
   "cell_type": "code",
   "execution_count": 9,
   "metadata": {},
   "outputs": [],
   "source": [
    "!export DISPLAY=localhost:0.0"
   ]
  },
  {
   "cell_type": "code",
   "execution_count": 1,
   "metadata": {},
   "outputs": [
    {
     "name": "stdout",
     "output_type": "stream",
     "text": [
      "\n",
      "ans =\n",
      "\n",
      "    '/c/Ubuntu_WSL/Code/libraries_of_mine/github/CAN2019_fmri_tutorial/code'\n",
      "\n"
     ]
    }
   ],
   "source": [
    "pwd"
   ]
  },
  {
   "cell_type": "code",
   "execution_count": 2,
   "metadata": {},
   "outputs": [],
   "source": [
    "addpath('/c/Ubuntu_WSL/Code/libraries_of_others/github/spm12')"
   ]
  },
  {
   "cell_type": "code",
   "execution_count": 3,
   "metadata": {},
   "outputs": [
    {
     "name": "stdout",
     "output_type": "stream",
     "text": [
      " ___  ____  __  __                                            \n",
      "/ __)(  _ \\(  \\/  )                                           \n",
      "\\__ \\ )___/ )    (   Statistical Parametric Mapping           \n",
      "(___/(__)  (_/\\/\\_)  SPM12 - https://www.fil.ion.ucl.ac.uk/spm/\n",
      "\n",
      "\n",
      "SPM12: v7487                                       00:19:24 - 20/05/2019\n",
      "========================================================================\n",
      "Initialising SPM                        :                   ........done\n",
      "\n",
      "SPM present working directory:\n",
      "\t/c/Ubuntu_WSL/Code/libraries_of_mine/github/CAN2019_fmri_tutorial/code\n"
     ]
    }
   ],
   "source": [
    "spm fmri"
   ]
  },
  {
   "cell_type": "markdown",
   "metadata": {},
   "source": [
    "\n",
    "## Newthing"
   ]
  },
  {
   "cell_type": "code",
   "execution_count": 8,
   "metadata": {},
   "outputs": [
    {
     "name": "stdout",
     "output_type": "stream",
     "text": [
      "Warning: Name is nonexistent or not a directory: /c/Ubuntu_WSL/Code/libraries_of_mine/github/CAN2019_fmri_tutorial/code/../code/spm12/spm12\n",
      "> In path (line 109)\n",
      "  In addpath (line 86)\n",
      "  In fc_analysis (line 27)\n",
      "  In run (line 91)\n",
      "Bye for now...\n",
      "\n",
      "Undefined function 'modularity_und' for input arguments of type 'double'.\n"
     ]
    }
   ],
   "source": [
    "run fc_analysis.m"
   ]
  }
 ],
 "metadata": {
  "celltoolbar": "Slideshow",
  "kernelspec": {
   "display_name": "MATLAB",
   "language": "matlab",
   "name": "imatlab"
  },
  "language_info": {
   "codemirror_mode": "octave",
   "file_extension": ".m",
   "mimetype": "text/x-matlab",
   "name": "matlab",
   "nbconvert_exporter": "imatlab._exporter.MatlabExporter",
   "pygments_lexer": "matlab",
   "version": "9.6.0.1099231 (R2019a) Update 1"
  },
  "rise": {
   "autolaunch": true,
   "enable_chalkboard": true
  }
 },
 "nbformat": 4,
 "nbformat_minor": 2
}
